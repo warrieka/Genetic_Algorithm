{
 "cells": [
  {
   "cell_type": "code",
   "execution_count": null,
   "metadata": {},
   "outputs": [],
   "source": [
    "# install pygad and dependencies (ommit index-url to install cpu version of pytorch)\n",
    "# also supports keras for GANN \n",
    "%pip install numpy\n",
    "%pip install pandas\n",
    "%pip install matplotlib\n",
    "%pip install torch  --index-url https://download.pytorch.org/whl/cu121\n",
    "%pip install pygad"
   ]
  },
  {
   "cell_type": "markdown",
   "metadata": {},
   "source": [
    "# Genetische Algoritmes\n",
    "\n",
    "Principe: het process van natuurlijke selectie toepassen om een simulatie uit te voeren. "
   ]
  },
  {
   "cell_type": "code",
   "execution_count": 1,
   "metadata": {},
   "outputs": [],
   "source": [
    "import matplotlib.pyplot as plt\n",
    "import random\n",
    "from IPython.display import Image, display\n",
    "import base64\n",
    "import pandas as pd"
   ]
  },
  {
   "cell_type": "markdown",
   "metadata": {},
   "source": [
    "## Classe voor 1 individu\n",
    "- **Gen**: A, C, G, of T  -> (adenine (A), thymine (T), cytosine (C), en guanine (G))\n",
    "- **Chromosome**: lijst van genen\n",
    "- **Individu**: een entiteit met een chromosoom, dat zich geslachtelijk kan voortplanten, waarbij de chromosomen gemixed worden en daarbij soms random mutaties heeft.\n",
    "- **Populatie**: Een aantal Individuen"
   ]
  },
  {
   "cell_type": "code",
   "execution_count": 2,
   "metadata": {},
   "outputs": [],
   "source": [
    "# hidden tools\n",
    "def mm(graph):\n",
    "    graphbytes = graph.encode(\"utf8\")\n",
    "    base64_bytes = base64.b64encode(graphbytes)\n",
    "    base64_string = base64_bytes.decode(\"ascii\")\n",
    "    display(Image(url=\"https://mermaid.ink/img/\" + base64_string))\n",
    "\n",
    "def mean_absolute_error(y_true, y_pred):\n",
    "    mae = np.mean(np.abs(y_true - y_pred))\n",
    "    return mae"
   ]
  },
  {
   "cell_type": "code",
   "execution_count": 3,
   "metadata": {},
   "outputs": [
    {
     "data": {
      "text/html": [
       "<img src=\"https://mermaid.ink/img/CmNsYXNzRGlhZ3JhbQogICAgY2xhc3MgSW5kaXZpZHVhbHsKICAgICAgK0xpc3R+Y2hhcn5bNF0gZ2VuZXMgW01vZ2VsaWprZSBnZW5lbiBBLCBDLCBHLCBvZiBUXQogICAgICArTGlzdH5jaGFyfiBjaHJvbW9zb21lIAogICAgICArSW50IGZpdG5lc3MgW0hvZXZlZWwgbGlqa3QgY2hyb21vc29tZSBvcCBUQVJHRVRdCiAgICAgICttdXRhdGVkX2dlbmVzKClbZ2VlZnQgMSByYW5kb20gZ2VuXSAtPiAqY2hhciogZ2VuCiAgICAgICtjcmVhdGVfZ25vbWUoKVtlZXJzdGUgZ2VuZXJhdGllXSAtPiAqSW5kaXZpZHVhbCogbWV0IHJhbmRvbSBjaHJvbW9zb21lIAogICAgICArbWF0ZShJbmRpdmlkdWFsIHZhZGVyLCBJbmRpdmlkdWFsIG1vZWRlcikgLT4gKkluZGl2aWR1YWwqIGtpbmQKICAgICAgfmNhbF9maXRuZXNzKClbYmVyZWtlbiBzZWxmLmZpdG5lc3NdIAogICAgfQo=\"/>"
      ],
      "text/plain": [
       "<IPython.core.display.Image object>"
      ]
     },
     "metadata": {},
     "output_type": "display_data"
    }
   ],
   "source": [
    "#hidden\n",
    "mm(\"\"\"\n",
    "classDiagram\n",
    "    class Individual{\n",
    "      +List~char~[4] genes [Mogelijke genen A, C, G, of T]\n",
    "      +List~char~ chromosome \n",
    "      +Int fitness [Hoeveel lijkt chromosome op TARGET]\n",
    "      +mutated_genes()[geeft 1 random gen] -> *char* gen\n",
    "      +create_gnome()[eerste generatie] -> *Individual* met random chromosome \n",
    "      +mate(Individual vader, Individual moeder) -> *Individual* kind\n",
    "      ~cal_fitness()[bereken self.fitness] \n",
    "    }\n",
    "\"\"\")"
   ]
  },
  {
   "cell_type": "code",
   "execution_count": 2,
   "metadata": {},
   "outputs": [
    {
     "ename": "IndentationError",
     "evalue": "unindent does not match any outer indentation level (<tokenize>, line 13)",
     "output_type": "error",
     "traceback": [
      "\u001b[1;36m  File \u001b[1;32m<tokenize>:13\u001b[1;36m\u001b[0m\n\u001b[1;33m    @staticmethod\u001b[0m\n\u001b[1;37m    ^\u001b[0m\n\u001b[1;31mIndentationError\u001b[0m\u001b[1;31m:\u001b[0m unindent does not match any outer indentation level\n"
     ]
    }
   ],
   "source": [
    "class Individual:\n",
    "\tdef __init__(self, chromosome=None, target_chromosone=None):\n",
    "\t\tself.target = target_chromosone\n",
    "\t\tself.chromosome = chromosome if chromosome is not None else self._create_gnome(target_chromosone)\n",
    "\t\tself.fitness = self.cal_fitness()\n",
    "\n",
    "\t@staticmethod\n",
    "\tdef mutated_gene():\n",
    "\t\tgenes = [ \"A\", \"C\", \"G\", \"T\"]\n",
    "\t\tgene = random.choice(genes)\n",
    "\t\treturn gene\n",
    "\t\n",
    "\t@staticmethod\n",
    "\tdef _create_gnome(target_chromosone):\n",
    "\t\tgnome_len = len(target_chromosone)\n",
    "\t\treturn [Individual.mutated_gene() for _ in range(gnome_len)]\n",
    "\n",
    "\tdef mate(self, vader):\n",
    "\t\t# chromosome for offspring\n",
    "\t\tkind_chromosoom = []\n",
    "\t\tfor gp1, gp2 in zip(self.chromosome, vader.chromosome):\n",
    "\n",
    "\t\t\t# random probability\n",
    "\t\t\tprob = random.random()\n",
    "\n",
    "\t\t\t# if prob is less than 0.45, insert gene form self\n",
    "\t\t\tif prob < 0.45:\n",
    "\t\t\t\tkind_chromosoom.append(gp1)\n",
    "\n",
    "\t\t\t# if prob is between 0.45 and 0.90, insert from father\n",
    "\t\t\telif prob < 0.90:\n",
    "\t\t\t\tkind_chromosoom.append(gp2)\n",
    "\n",
    "\t\t\t# otherwise insert random gene(mutate),\n",
    "\t\t\telse:\n",
    "\t\t\t\tkind_chromosoom.append(self.mutated_gene())\n",
    "\n",
    "\t\t# create new Individual(offspring) using\n",
    "\t\t# generated chromosome for offspring\n",
    "\t\treturn Individual(kind_chromosoom, self.target)\n",
    "\n",
    "\tdef cal_fitness(self):\n",
    "\t\tfitness = 0\n",
    "\t\tfor gs, gt in zip(self.chromosome, self.target):\n",
    "\t\t\tif gs != gt: fitness+= 1\n",
    "\t\treturn fitness"
   ]
  },
  {
   "cell_type": "markdown",
   "metadata": {},
   "source": [
    "## Eerste generatie maken: \n",
    "Deze hebben geen kinderen"
   ]
  },
  {
   "cell_type": "code",
<<<<<<< HEAD
   "execution_count": null,
=======
<<<<<<< HEAD
   "execution_count": 5,
=======
   "execution_count": 4,
>>>>>>> e0fd712add55dc0d701ed23ef7bbef65bedaf2f0
>>>>>>> 4a38c6d877c107f7a7f7119da736acfe1fbe7eb8
   "metadata": {},
   "outputs": [],
   "source": [
    "# Aantal individuen in de populatie\n",
    "POPULATION_SIZE = 100\n",
    "\n",
    "# de beste genen voor overleven\n",
    "TARGET = \"CACTAGATCACA\"\n",
    "\n",
    "generation = 0\n",
    "population = [Individual(target_chromosone=TARGET) for _ in range(POPULATION_SIZE)]"
   ]
  },
  {
   "cell_type": "markdown",
   "metadata": {},
   "source": [
    "Sorteren op volgens meest geschikt"
   ]
  },
  {
   "cell_type": "code",
   "execution_count": 6,
   "metadata": {},
   "outputs": [
    {
     "data": {
      "text/html": [
       "<div>\n",
       "<style scoped>\n",
       "    .dataframe tbody tr th:only-of-type {\n",
       "        vertical-align: middle;\n",
       "    }\n",
       "\n",
       "    .dataframe tbody tr th {\n",
       "        vertical-align: top;\n",
       "    }\n",
       "\n",
       "    .dataframe thead th {\n",
       "        text-align: right;\n",
       "    }\n",
       "</style>\n",
       "<table border=\"1\" class=\"dataframe\">\n",
       "  <thead>\n",
       "    <tr style=\"text-align: right;\">\n",
       "      <th></th>\n",
       "      <th>Rank</th>\n",
       "      <th>chromosoom</th>\n",
       "      <th>fitness</th>\n",
       "    </tr>\n",
       "  </thead>\n",
       "  <tbody>\n",
       "    <tr>\n",
       "      <th>0</th>\n",
       "      <td>1</td>\n",
       "      <td>GACCAGCTCGCT</td>\n",
       "      <td>5</td>\n",
       "    </tr>\n",
       "    <tr>\n",
       "      <th>1</th>\n",
       "      <td>2</td>\n",
       "      <td>CGGTTGATTAAA</td>\n",
       "      <td>5</td>\n",
       "    </tr>\n",
       "    <tr>\n",
       "      <th>2</th>\n",
       "      <td>3</td>\n",
       "      <td>CACTACTGATGA</td>\n",
       "      <td>6</td>\n",
       "    </tr>\n",
       "    <tr>\n",
       "      <th>3</th>\n",
       "      <td>4</td>\n",
       "      <td>CAAAGGGTCTAA</td>\n",
       "      <td>6</td>\n",
       "    </tr>\n",
       "    <tr>\n",
       "      <th>4</th>\n",
       "      <td>5</td>\n",
       "      <td>AACCAGTTCCGT</td>\n",
       "      <td>6</td>\n",
       "    </tr>\n",
       "    <tr>\n",
       "      <th>...</th>\n",
       "      <td>...</td>\n",
       "      <td>...</td>\n",
       "      <td>...</td>\n",
       "    </tr>\n",
       "    <tr>\n",
       "      <th>95</th>\n",
       "      <td>96</td>\n",
       "      <td>TCAGCCTGTTTG</td>\n",
       "      <td>12</td>\n",
       "    </tr>\n",
       "    <tr>\n",
       "      <th>96</th>\n",
       "      <td>97</td>\n",
       "      <td>TCACCACATGTT</td>\n",
       "      <td>12</td>\n",
       "    </tr>\n",
       "    <tr>\n",
       "      <th>97</th>\n",
       "      <td>98</td>\n",
       "      <td>ATTACAGATTGC</td>\n",
       "      <td>12</td>\n",
       "    </tr>\n",
       "    <tr>\n",
       "      <th>98</th>\n",
       "      <td>99</td>\n",
       "      <td>GGACTTGCGTAG</td>\n",
       "      <td>12</td>\n",
       "    </tr>\n",
       "    <tr>\n",
       "      <th>99</th>\n",
       "      <td>100</td>\n",
       "      <td>TGTGTCCATTAT</td>\n",
       "      <td>12</td>\n",
       "    </tr>\n",
       "  </tbody>\n",
       "</table>\n",
       "<p>100 rows × 3 columns</p>\n",
       "</div>"
      ],
      "text/plain": [
       "    Rank    chromosoom  fitness\n",
       "0      1  GACCAGCTCGCT        5\n",
       "1      2  CGGTTGATTAAA        5\n",
       "2      3  CACTACTGATGA        6\n",
       "3      4  CAAAGGGTCTAA        6\n",
       "4      5  AACCAGTTCCGT        6\n",
       "..   ...           ...      ...\n",
       "95    96  TCAGCCTGTTTG       12\n",
       "96    97  TCACCACATGTT       12\n",
       "97    98  ATTACAGATTGC       12\n",
       "98    99  GGACTTGCGTAG       12\n",
       "99   100  TGTGTCCATTAT       12\n",
       "\n",
       "[100 rows x 3 columns]"
      ]
     },
     "execution_count": 6,
     "metadata": {},
     "output_type": "execute_result"
    }
   ],
   "source": [
    "population = sorted(population, key = lambda x:x.fitness)\n",
    "pd.DataFrame(\n",
    "    [(i+1,\"\".join(individu.chromosome), individu.fitness) for i, individu in enumerate(population)],\n",
    "    columns=[\"Rank\", \"chromosoom\", \"fitness\"])   "
   ]
  },
  {
   "cell_type": "markdown",
   "metadata": {},
   "source": [
    "## De volgende generaties\n",
    "\n",
    "Klik op play om nieuwe generatie te berekenen. Ieder generatie is net iets beter."
   ]
  },
  {
   "cell_type": "code",
   "execution_count": 17,
   "metadata": {},
   "outputs": [
    {
     "name": "stdout",
     "output_type": "stream",
     "text": [
      "TOP 3 Generatie: 11\n"
     ]
    },
    {
     "data": {
      "text/html": [
       "<div>\n",
       "<style scoped>\n",
       "    .dataframe tbody tr th:only-of-type {\n",
       "        vertical-align: middle;\n",
       "    }\n",
       "\n",
       "    .dataframe tbody tr th {\n",
       "        vertical-align: top;\n",
       "    }\n",
       "\n",
       "    .dataframe thead th {\n",
       "        text-align: right;\n",
       "    }\n",
       "</style>\n",
       "<table border=\"1\" class=\"dataframe\">\n",
       "  <thead>\n",
       "    <tr style=\"text-align: right;\">\n",
       "      <th></th>\n",
       "      <th>Rank</th>\n",
       "      <th>chromosoom</th>\n",
       "      <th>fitness</th>\n",
       "    </tr>\n",
       "  </thead>\n",
       "  <tbody>\n",
       "    <tr>\n",
       "      <th>0</th>\n",
       "      <td>1</td>\n",
       "      <td>CACTAGATCACA</td>\n",
       "      <td>0</td>\n",
       "    </tr>\n",
       "    <tr>\n",
       "      <th>1</th>\n",
       "      <td>2</td>\n",
       "      <td>CACTAGATCACA</td>\n",
       "      <td>0</td>\n",
       "    </tr>\n",
       "    <tr>\n",
       "      <th>2</th>\n",
       "      <td>3</td>\n",
       "      <td>CACTAGATCACA</td>\n",
       "      <td>0</td>\n",
       "    </tr>\n",
       "  </tbody>\n",
       "</table>\n",
       "</div>"
      ],
      "text/plain": [
       "   Rank    chromosoom  fitness\n",
       "0     1  CACTAGATCACA        0\n",
       "1     2  CACTAGATCACA        0\n",
       "2     3  CACTAGATCACA        0"
      ]
     },
     "metadata": {},
     "output_type": "display_data"
    },
    {
     "data": {
      "image/png": "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",
      "text/plain": [
       "<Figure size 640x480 with 1 Axes>"
      ]
     },
     "metadata": {},
     "output_type": "display_data"
    }
   ],
   "source": [
    "generation += 1 \n",
    "new_generation = []\n",
    "\n",
    "\n",
    "# Perform Elitism, that mean 10% of fittest population\n",
    "# goes to the next generation\n",
    "s = int((10*POPULATION_SIZE)/100) #= 10\n",
    "new_generation.extend(population[:s])\n",
    "\n",
    "# From 50% of fittest population, Individuals\n",
    "# will mate to produce offspring\n",
    "s = int((90*POPULATION_SIZE)/100) #= 90\n",
    "for _ in range(s):\n",
    "    parent1 = random.choice(population[:50])\n",
    "    parent2 = random.choice(population[:50])\n",
    "    child = parent1.mate(parent2)\n",
    "    new_generation.append(child)\n",
    "\n",
    "population = new_generation\n",
    "\n",
    "population = sorted(population, key = lambda x:x.fitness)\n",
    "\n",
    "df= pd.DataFrame(\n",
    "    [(i+1, \"\".join(individu.chromosome), individu.fitness) for (i, individu) in enumerate(population)],\n",
    "    columns=[\"Rank\", \"chromosoom\", \"fitness\"])  \n",
    "\n",
    "print(f\"TOP 3 Generatie: {generation}\")\n",
    "display(df[0:3])\n",
    "df.hist( \"fitness\" , bins=len(TARGET)//4 ) \n",
    "plt.title(f\"Verdeling fitness voor Generatie: {generation}, mediaan: {df.fitness.median()}\")\n",
    "plt.xlim(0, len(TARGET))\n",
    "plt.show()"
<<<<<<< HEAD
=======
   ]
  },
  {
   "cell_type": "markdown",
   "metadata": {},
   "source": [
    "PYGAD\n",
    "------\n",
    "![](https://user-images.githubusercontent.com/16560492/101267295-c74c0180-375f-11eb-9ad0-f8e37bd796ce.png)\n",
    "<https://pygad.readthedocs.io/en/latest/>\n",
    "\n",
    "Library om genetische algoritmes to maken.\n",
    "\n"
   ]
  },
  {
   "cell_type": "code",
   "execution_count": 2,
   "metadata": {},
   "outputs": [],
   "source": [
    "import pygad, pygad.gann, pygad.nn, torch\n",
    "import numpy as np"
   ]
  },
  {
   "cell_type": "markdown",
   "metadata": {},
   "source": [
    "Vind een matrix met getallen tussen -2 eb 5, wanneer je die elementwijs vermenigvuldigd met de matrix [4,-2,3.5,5,-11,-4.7] een som heeft gelijk is aan 44."
   ]
  },
  {
   "cell_type": "code",
   "execution_count": null,
   "metadata": {},
   "outputs": [],
   "source": [
    "input_values= np.array( [4,-2,3.5,5,-11,-4.7] )\n",
    "desired_output = 44\n",
    "\n",
    "# bereken de fitness -> hoe groter hoe beter.\n",
    "def fitness_func(ga_instance:pygad.GA, solution:np.ndarray, solution_idx:int):\n",
    "    output = np.sum(solution*input_values)\n",
    "    fitness = 1.0 / np.abs(output - desired_output) # 1 / Absolute Error\n",
    "    return fitness\n"
   ]
  },
  {
   "cell_type": "code",
   "execution_count": null,
   "metadata": {},
   "outputs": [
    {
     "data": {
      "text/plain": [
       "'De beste oplossing [-0.6239573   1.79252393  3.82041516  3.83396102 -1.76897438  0.41282632] met een fitness van 47.2045'"
      ]
     },
     "metadata": {},
     "output_type": "display_data"
    }
   ],
   "source": [
    "fitness_function = fitness_func\n",
    "\n",
    "num_generations = 50\n",
    "num_parents_mating = 4\n",
    "\n",
    "sol_per_pop = 8                     # populatie grootte\n",
    "num_genes = len(input_values)       # == 6\n",
    "\n",
    "init_range_low = -2                 # initiele genen zijn een random waarde tussen -2 en 5\n",
    "init_range_high = 5\n",
    "\n",
    "gene_space = {\"low\": -2, \"high\": 5} # minimum en maximum waarde voor een gen, kan ook een discrete lijst zijn.  \n",
    "\n",
    "parent_selection_type = \"sss\"       # elitism -> Steady State Selection, beste parents gaan over naar de volgende generatie \n",
    "keep_parents = 1                    # aantal ouderparen dat overgaan naar volgende generatie \n",
    "\n",
    "crossover_type = \"single_point\"     # single_point = oudergenen op 1 plaats gespltst en samengevoegd\n",
    "crossover_probability = 0.5         # 50% kans dat genen splitsten worden, anders gen van 1 ouder. \n",
    "\n",
    "mutation_type = \"random\"       \n",
    "mutation_percent_genes = 25         # 25% kans op mutatie\n",
    "\n",
    "ga_instance = pygad.GA(num_generations=num_generations,\n",
    "                       num_parents_mating=num_parents_mating,\n",
    "                       fitness_func=fitness_function,\n",
    "                       sol_per_pop=sol_per_pop,\n",
    "                       num_genes=num_genes,\n",
    "                       init_range_low=init_range_low,\n",
    "                       init_range_high=init_range_high,\n",
    "                       gene_space= gene_space,\n",
    "                       parent_selection_type=parent_selection_type,\n",
    "                       keep_parents=keep_parents,\n",
    "                       crossover_type=crossover_type,\n",
    "                       crossover_probability=crossover_probability,\n",
    "                       mutation_type=mutation_type,\n",
    "                       mutation_percent_genes=mutation_percent_genes)\n",
    "\n",
    "ga_instance.run()\n",
    "solution, fitness, _ = ga_instance.best_solution()\n",
    "f\"De beste oplossing {solution} met een fitness van {fitness:0.4f}\""
   ]
  },
  {
   "cell_type": "code",
   "execution_count": null,
   "metadata": {},
   "outputs": [
    {
     "data": {
      "text/plain": [
       "0.016456229195455307"
      ]
     },
     "metadata": {},
     "output_type": "display_data"
    }
   ],
   "source": [
    "1/fitness"
   ]
  },
  {
   "cell_type": "code",
   "execution_count": null,
   "metadata": {},
   "outputs": [
    {
     "data": {
      "text/plain": [
       "43.983543770804545"
      ]
     },
     "metadata": {},
     "output_type": "display_data"
    }
   ],
   "source": [
    "sum( solution * input_values)"
   ]
  },
  {
   "cell_type": "code",
   "execution_count": null,
   "metadata": {},
   "outputs": [
    {
     "data": {
      "text/plain": [
       "0.016456229195455307"
      ]
     },
     "metadata": {},
     "output_type": "display_data"
    }
   ],
   "source": [
    "abs( 44 - sum( solution * input_values))"
   ]
  },
  {
   "cell_type": "markdown",
   "metadata": {},
   "source": [
    "## Fitness berekenen met neurale netwerken\n",
    "\n",
    "De fitness berekenen kan realiteit erg complex zijn, daarom wordt meestal een neuraal netwerk gebruikt om dit te bepalen. \n",
    "\n",
    "Zo heet een menselijk genoom bestaat uit 3 miljard base paren."
   ]
  },
  {
   "cell_type": "code",
   "execution_count": null,
   "metadata": {},
   "outputs": [],
   "source": [
    "data_inputs = torch.rand(4,2)\n",
    "\n",
    "data_outputs = torch.tensor([0, 1, 1, 0])\n",
    "\n",
    "num_inputs = data_inputs.shape[1]\n",
    "\n",
    "GANN_instance = pygad.gann.GANN(num_solutions=6,            # populatie\n",
    "                                num_neurons_input=num_inputs,\n",
    "                                num_neurons_hidden_layers=[2],\n",
    "                                num_neurons_output=2,\n",
    "                                hidden_activations=[\"relu\"],\n",
    "                                output_activation=\"softmax\")"
   ]
  },
  {
   "cell_type": "code",
   "execution_count": null,
   "metadata": {},
   "outputs": [],
   "source": [
    "def fitness_func(ga_instance:pygad.GA, solution:torch.Tensor, sol_idx:int):\n",
    "    predictions = pygad.nn.predict(last_layer=GANN_instance.population_networks[sol_idx],\n",
    "                                   data_inputs=solution.reshape(data_inputs.shape) )\n",
    "    correct_predictions = np.where(predictions == data_outputs.numpy())[0].size\n",
    "    solution_fitness = (correct_predictions/data_outputs.size(0))*100\n",
    "\n",
    "    return solution_fitness"
   ]
  },
  {
   "cell_type": "code",
   "execution_count": null,
   "metadata": {},
   "outputs": [
    {
     "name": "stdout",
     "output_type": "stream",
     "text": [
      "Populatie grootte=  6 \n",
      "Eerste individu =\n",
      " [[-0.03442531  0.00212062]\n",
      " [-0.09860268  0.02984727]\n",
      " [-0.00598982  0.01744189]\n",
      " [-0.00117039  0.0043304 ]]\n"
     ]
    }
   ],
   "source": [
    "initial_population = pygad.gann.population_as_vectors(population_networks=GANN_instance.population_networks)\n",
    "\n",
    "print(\"Populatie grootte= \", len(initial_population) ,\"\\nEerste individu =\\n\", initial_population[0].reshape(4,-1) )"
   ]
  },
  {
   "cell_type": "code",
   "execution_count": null,
   "metadata": {},
   "outputs": [],
   "source": [
    "initial_population = pygad.gann.population_as_vectors(population_networks=GANN_instance.population_networks)\n",
    "\n",
    "num_parents_mating = 4\n",
    "\n",
    "num_generations = 500\n",
    "\n",
    "parent_selection_type = \"sss\"\n",
    "\n",
    "crossover_type = \"single_point\"\n",
    "\n",
    "mutation_type = \"random\"\n",
    "mutation_percent_genes = 25  \n",
    "\n",
    "keep_parents = 1\n",
    "\n",
    "init_range_low = -2\n",
    "init_range_high = 5\n",
    "\n",
    "ga_instance = pygad.GA(num_generations=num_generations,\n",
    "                       num_parents_mating=num_parents_mating,\n",
    "                       initial_population=initial_population,\n",
    "                       fitness_func=fitness_func,\n",
    "                       mutation_percent_genes=mutation_percent_genes,\n",
    "                       init_range_low=init_range_low,\n",
    "                       init_range_high=init_range_high,\n",
    "                       parent_selection_type=parent_selection_type,\n",
    "                       crossover_type=crossover_type,\n",
    "                       mutation_type=mutation_type,\n",
    "                       keep_parents=keep_parents)"
   ]
  },
  {
   "cell_type": "code",
   "execution_count": null,
   "metadata": {},
   "outputs": [],
   "source": [
    "ga_instance.run()"
   ]
  },
  {
   "cell_type": "code",
   "execution_count": null,
   "metadata": {},
   "outputs": [
    {
     "name": "stdout",
     "output_type": "stream",
     "text": [
      "De beste oplossing is\n",
      " [[-7.50253134  5.09748509]\n",
      " [ 4.41698462  5.83154582]\n",
      " [ 5.63148827  6.83744113]\n",
      " [-3.90733317  2.34899638]]\n",
      " met een fitness van 100%\n"
     ]
    }
   ],
   "source": [
    "solution, fitness, best_fit_idx = ga_instance.best_solution()\n",
    "print(f\"De beste oplossing is\\n {solution.reshape(4,-1)}\\n met een fitness van {fitness:0.0f}%\")"
   ]
  },
  {
   "cell_type": "code",
   "execution_count": null,
   "metadata": {},
   "outputs": [
    {
     "data": {
      "text/plain": [
       "[0, 1, 1, 0]"
      ]
     },
     "metadata": {},
     "output_type": "display_data"
    }
   ],
   "source": [
    "pygad.nn.predict(last_layer=GANN_instance.population_networks[4],\n",
    "                   data_inputs= solution.reshape(4,-1) )"
>>>>>>> e0fd712add55dc0d701ed23ef7bbef65bedaf2f0
   ]
  }
 ],
 "metadata": {
  "kernelspec": {
   "display_name": "ml",
   "language": "python",
   "name": "python3"
  },
  "language_info": {
   "codemirror_mode": {
    "name": "ipython",
    "version": 3
   },
   "file_extension": ".py",
   "mimetype": "text/x-python",
   "name": "python",
   "nbconvert_exporter": "python",
   "pygments_lexer": "ipython3",
   "version": "3.11.4"
  }
 },
 "nbformat": 4,
 "nbformat_minor": 2
}

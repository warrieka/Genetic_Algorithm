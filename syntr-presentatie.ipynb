{
 "cells": [
  {
   "cell_type": "markdown",
   "metadata": {},
   "source": [
    "# Genetische Algoritmes\n",
    "\n",
    "Principe: het process van natuurlijk selectie toepassen om een simulatie uit te voeren. "
   ]
  },
  {
   "cell_type": "code",
   "execution_count": 1,
   "metadata": {},
   "outputs": [],
   "source": [
    "import numpy as np\n",
    "import random"
   ]
  },
  {
   "cell_type": "markdown",
   "metadata": {},
   "source": [
    "## Hyperparameters"
   ]
  },
  {
   "cell_type": "code",
   "execution_count": 2,
   "metadata": {},
   "outputs": [],
   "source": [
    "# Aantal individuen in de populatie\n",
    "POPULATION_SIZE = 100\n",
    "\n",
    "# Mogelijke genen\n",
    "GENES = '''abcdefghijklmnopqrstuvwxyzABCDEFGHIJKLMNOP\n",
    "QRSTUVWXYZ 1234567890, .-;:_!\"#%&/()=?@${[]}'''\n",
    "\n",
    "# individu met de beste genen\n",
    "TARGET = \"Syntra!\""
   ]
  },
  {
   "cell_type": "markdown",
   "metadata": {},
   "source": [
    "## Classe voor 1 individu"
   ]
  },
  {
   "cell_type": "code",
   "execution_count": 3,
   "metadata": {},
   "outputs": [],
   "source": [
    "class Individual:\n",
    "\t'''\n",
    "\tClass representing individual in population\n",
    "\t'''\n",
    "\tdef __init__(self, chromosome):\n",
    "\t\tself.chromosome = chromosome\n",
    "\t\tself.fitness = self.cal_fitness()\n",
    "\n",
    "\t@classmethod\n",
    "\tdef mutated_genes(self):\n",
    "\t\t'''\n",
    "\t\tcreate random genes for mutation\n",
    "\t\t'''\n",
    "\t\tgene = random.choice(GENES)\n",
    "\t\treturn gene\n",
    "\n",
    "\t@classmethod\n",
    "\tdef create_gnome(self):\n",
    "\t\t'''\n",
    "\t\tcreate chromosome or string of genes -> first time parents\n",
    "\t\t'''\n",
    "\t\tgnome_len = len(TARGET)\n",
    "\t\treturn [self.mutated_genes() for _ in range(gnome_len)]\n",
    "\n",
    "\tdef mate(self, par2):\n",
    "\t\t'''\n",
    "\t\tPerform mating and produce new offspring\n",
    "\t\t'''\n",
    "\n",
    "\t\t# chromosome for offspring\n",
    "\t\tchild_chromosome = []\n",
    "\t\tfor gp1, gp2 in zip(self.chromosome, par2.chromosome):\n",
    "\n",
    "\t\t\t# random probability\n",
    "\t\t\tprob = random.random()\n",
    "\n",
    "\t\t\t# if prob is less than 0.45, insert gene\n",
    "\t\t\t# from parent 1\n",
    "\t\t\tif prob < 0.45:\n",
    "\t\t\t\tchild_chromosome.append(gp1)\n",
    "\n",
    "\t\t\t# if prob is between 0.45 and 0.90, insert\n",
    "\t\t\t# gene from parent 2\n",
    "\t\t\telif prob < 0.90:\n",
    "\t\t\t\tchild_chromosome.append(gp2)\n",
    "\n",
    "\t\t\t# otherwise insert random gene(mutate),\n",
    "\t\t\t# for maintaining diversity\n",
    "\t\t\telse:\n",
    "\t\t\t\tchild_chromosome.append(self.mutated_genes())\n",
    "\n",
    "\t\t# create new Individual(offspring) using\n",
    "\t\t# generated chromosome for offspring\n",
    "\t\treturn Individual(child_chromosome)\n",
    "\n",
    "\tdef cal_fitness(self):\n",
    "\t\t'''\n",
    "\t\tCalculate fitness score, it is the number of\n",
    "\t\tcharacters in string which differ from target\n",
    "\t\tstring.\n",
    "\t\t'''\n",
    "\t\tfitness = 0\n",
    "\t\tfor gs, gt in zip(self.chromosome, TARGET):\n",
    "\t\t\tif gs != gt: fitness+= 1\n",
    "\t\treturn fitness"
   ]
  },
  {
   "cell_type": "markdown",
   "metadata": {},
   "source": [
    "## Eerste generatie maken: \n",
    "Deze hebben geen kinderen"
   ]
  },
  {
   "cell_type": "code",
   "execution_count": 4,
   "metadata": {},
   "outputs": [],
   "source": [
    "generation = 0\n",
    "found = False\n",
    "population = []\n",
    "\n",
    "for _ in range(POPULATION_SIZE):\n",
    "            gnome = Individual.create_gnome()\n",
    "            population.append(Individual(gnome))"
   ]
  },
  {
   "cell_type": "markdown",
   "metadata": {},
   "source": [
    "Sorteren op volgens meest geschikt"
   ]
  },
  {
   "cell_type": "code",
   "execution_count": 5,
   "metadata": {},
   "outputs": [
    {
     "data": {
      "text/plain": [
       "[(1, 'NEAto-1', 6),\n",
       " (2, 'fy3WQYV', 6),\n",
       " (3, 'O4lJ{a}', 6),\n",
       " (4, 'slFtXpE', 6),\n",
       " (5, 'SOe=?S/', 6),\n",
       " (6, ' J)=Oe!', 6),\n",
       " (7, '?-;MrnE', 6),\n",
       " (8, 'j:bm1;W', 7),\n",
       " (9, '![Zm}FR', 7),\n",
       " (10, 'p5\"olmd', 7)]"
      ]
     },
     "execution_count": 5,
     "metadata": {},
     "output_type": "execute_result"
    }
   ],
   "source": [
    "population = sorted(population, key = lambda x:x.fitness)\n",
    "[(i+1,\"\".join(individu.chromosome), individu.fitness) for i, individu in enumerate(population)][:10]   "
   ]
  },
  {
   "cell_type": "markdown",
   "metadata": {},
   "source": [
    "## De volgende generaties\n",
    "\n",
    "Klik op play om nieuwe generatie te berekenen. Ieder generatie is net iets beter."
   ]
  },
  {
   "cell_type": "code",
   "execution_count": 9,
   "metadata": {},
   "outputs": [
    {
     "name": "stdout",
     "output_type": "stream",
     "text": [
      "Generatie: 4\n"
     ]
    },
    {
     "data": {
      "text/plain": [
       "[(1, '!i_tra:', 4),\n",
       " (2, 'SLvtjb!', 4),\n",
       " (3, 'llltra.', 4),\n",
       " (4, '@fAcra!', 4),\n",
       " (5, '1pAtrC!', 4),\n",
       " (6, 'fJPt5a!', 4),\n",
       " (7, ' J)tO-!', 5),\n",
       " (8, 'SEAt-F/', 5),\n",
       " (9, '1p:trp.', 5),\n",
       " (10, 'Sf:_rCE', 5)]"
      ]
     },
     "execution_count": 9,
     "metadata": {},
     "output_type": "execute_result"
    }
   ],
   "source": [
    "generation += 1 \n",
    "new_generation = []\n",
    "\n",
    "# Perform Elitism, that mean 10% of fittest population\n",
    "# goes to the next generation\n",
    "s = int((10*POPULATION_SIZE)/100) #= 10\n",
    "new_generation.extend(population[:s])\n",
    "\n",
    "# From 50% of fittest population, Individuals\n",
    "# will mate to produce offspring\n",
    "s = int((90*POPULATION_SIZE)/100) #= 90\n",
    "for _ in range(s):\n",
    "    parent1 = random.choice(population[:50])\n",
    "    parent2 = random.choice(population[:50])\n",
    "    child = parent1.mate(parent2)\n",
    "    new_generation.append(child)\n",
    "\n",
    "population = new_generation\n",
    "\n",
    "population = sorted(population, key = lambda x:x.fitness)\n",
    "print(f\"Generatie: {generation}\")\n",
    "[(i+1, \"\".join(individu.chromosome), individu.fitness) for (i, individu) in enumerate(population)][:10]   "
   ]
  }
 ],
 "metadata": {
  "kernelspec": {
   "display_name": "ml",
   "language": "python",
   "name": "python3"
  },
  "language_info": {
   "codemirror_mode": {
    "name": "ipython",
    "version": 3
   },
   "file_extension": ".py",
   "mimetype": "text/x-python",
   "name": "python",
   "nbconvert_exporter": "python",
   "pygments_lexer": "ipython3",
   "version": "3.11.4"
  }
 },
 "nbformat": 4,
 "nbformat_minor": 2
}

{
 "cells": [
  {
   "cell_type": "code",
   "execution_count": 1,
   "metadata": {
    "tags": []
   },
   "outputs": [],
   "source": [
    "import numpy.random as npr\n",
    "import bitstring\n",
    "\n",
    "gens = 1000 #5000\n",
    "genSize = 100\n",
    "\n",
    "def fitness(bs):\n",
    "    x = bs.float\n",
    "    return -x**2+2*x+1\n",
    "\n",
    "def generatePopulation(genSize):\n",
    "    gen = []\n",
    "    for i in range(genSize):\n",
    "        gen.append(bitstring.BitArray(float = npr.uniform(-1000,1000), length = 32))\n",
    "    return gen\n",
    "    \n",
    "def printGen(gen):\n",
    "    for i in range(genSize):\n",
    "        print(gen[i].float, fitness(gen[i]))\n",
    "        \n",
    "def best(population):\n",
    "    bestX = population[0]\n",
    "    bestY = fitness(bestX)\n",
    "    for i in range(genSize):\n",
    "        if fitness(population[i]) > bestY:\n",
    "            bestX = population[i]\n",
    "            bestY = fitness(bestX)     \n",
    "    return bestX, bestY"
   ]
  },
  {
   "cell_type": "code",
   "execution_count": 2,
   "metadata": {
    "tags": []
   },
   "outputs": [],
   "source": [
    "# function for implementing the single-point crossover \n",
    "def crossover(l, q): \n",
    "    x = l #mag weg\n",
    "    y = q #mag weg\n",
    "    # converting the string to list for performing the crossover \n",
    "    l = list(l.bin) # bin = omzetten naar binair\n",
    "    q = list(q.bin) # list = een lijst maken van de onderdeeltjes\n",
    "  \n",
    "    # generating the random number to perform crossover \n",
    "    k = npr.randint(0, len(l)) \n",
    "    \"\"\"numpy.random.randint(low, high=None, size=None, dtype='l')\n",
    "Return random integers from low (inclusive) to high (exclusive).\n",
    "Return random integers from the “discrete uniform” distribution of \n",
    "the specified dtype in the “half-open” interval [low, high). \n",
    "If high is None (the default), then results are from [0, low).\n",
    ">>> np.random.randint(2, size=10)\n",
    "array([1, 0, 0, 0, 1, 1, 0, 0, 1, 0])\n",
    "\"\"\"\n",
    "    #print(\"Crossover point :\", k) \n",
    "  \n",
    "    # interchanging the genes \n",
    "    for i in range(k, len(l)): \n",
    "        l[i], q[i] = q[i], l[i] \n",
    "    l = ''.join(l) \n",
    "    q = ''.join(q) \n",
    "    #print(l, '\\t', fitness(x)) \n",
    "    #print(q, '\\t', fitness(y), \"\\n\\n\") \n",
    "    return bitstring.BitArray(bin=l), bitstring.BitArray(bin=q)"
   ]
  },
  {
   "cell_type": "code",
   "execution_count": 4,
   "metadata": {
    "tags": []
   },
   "outputs": [],
   "source": [
    "def selectOne(population): \n",
    "    probs = [fitness(x) for x in population]\n",
    "    minprob = -min(probs)\n",
    "    probs = [p + minprob for p in probs]\n",
    "    max = sum(probs)\n",
    "    if max != 0:\n",
    "        probs = [p/max for p in probs]\n",
    "    else:\n",
    "        probs = [1.0/genSize for p in probs]\n",
    "    return population[npr.choice(len(population), p=probs)]"
   ]
  },
  {
   "cell_type": "code",
   "execution_count": 5,
   "metadata": {
    "tags": []
   },
   "outputs": [
    {
     "name": "stdout",
     "output_type": "stream",
     "text": [
      "0 -3.6780972480773926 -19.884593862469274\n",
      "1000 2.0 1.0\n"
     ]
    }
   ],
   "source": [
    "\n",
    "gen = generatePopulation(genSize)\n",
    "x, y = best(gen)\n",
    "print(0, x.float, y)\n",
    "\n",
    "for j in range(gens):\n",
    "    nextGen = []\n",
    "    x, y = best(gen)\n",
    "    nextGen.append(x) #survival of the fittest\n",
    "    nextGen.append(x) #survival of the fittest\n",
    "    for i in range(genSize // 2 - 1):\n",
    "        a, b = crossover(selectOne(gen), selectOne(gen))\n",
    "        nextGen.append(a)\n",
    "        nextGen.append(b)\n",
    "    gen = nextGen\n",
    "\n",
    "x, y = best(gen)\n",
    "print(j+1, x.float, y)"
   ]
  },
  {
   "cell_type": "code",
   "execution_count": null,
   "metadata": {},
   "outputs": [],
   "source": []
  }
 ],
 "metadata": {
  "kernelspec": {
   "display_name": "Python 3 (ipykernel)",
   "language": "python",
   "name": "python3"
  },
  "language_info": {
   "codemirror_mode": {
    "name": "ipython",
    "version": 3
   },
   "file_extension": ".py",
   "mimetype": "text/x-python",
   "name": "python",
   "nbconvert_exporter": "python",
   "pygments_lexer": "ipython3",
   "version": "3.11.4"
  }
 },
 "nbformat": 4,
 "nbformat_minor": 4
}

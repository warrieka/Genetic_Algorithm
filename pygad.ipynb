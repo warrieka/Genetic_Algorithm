{
 "cells": [
  {
   "cell_type": "code",
   "execution_count": null,
   "metadata": {},
   "outputs": [],
   "source": [
    "# install pygad and dependencies (ommit index-url to install cpu version of pytorch)\n",
    "# also supports keras for GANN \n",
    "%pip install numpy\n",
    "%pip install matplotlib\n",
    "%pip install torch  --index-url https://download.pytorch.org/whl/cu121\n",
    "%pip install pygad"
   ]
  },
  {
   "cell_type": "code",
   "execution_count": 2,
   "metadata": {},
   "outputs": [],
   "source": [
    "import pygad, pygad.gann, pygad.nn, torch\n",
    "import numpy as np"
   ]
  },
  {
   "cell_type": "markdown",
   "metadata": {},
   "source": [
    "Vind een matrix met getallen tussen -2 eb 5, wanneer je die elementwijs vermenigvuldigd met de matrix [4,-2,3.5,5,-11,-4.7] een som heeft gelijk is aan 44."
   ]
  },
  {
   "cell_type": "code",
   "execution_count": 2,
   "metadata": {},
   "outputs": [],
   "source": [
    "input_values= np.array( [4,-2,3.5,5,-11,-4.7] )\n",
    "desired_output = 44\n",
    "\n",
    "# bereken de fitness -> hoe groter hoe beter.\n",
    "def fitness_func(ga_instance:pygad.GA, solution:np.ndarray, solution_idx:int):\n",
    "    output = np.sum(solution*input_values)\n",
    "    fitness = 1.0 / np.abs(output - desired_output) # 1 / Absolute Error\n",
    "    return fitness\n"
   ]
  },
  {
   "cell_type": "code",
   "execution_count": 3,
   "metadata": {},
   "outputs": [
    {
     "data": {
      "text/plain": [
       "'De beste oplossing [-0.6239573   1.79252393  3.82041516  3.83396102 -1.76897438  0.41282632] met een fitness van 47.2045'"
      ]
     },
     "execution_count": 3,
     "metadata": {},
     "output_type": "execute_result"
    }
   ],
   "source": [
    "fitness_function = fitness_func\n",
    "\n",
    "num_generations = 50\n",
    "num_parents_mating = 4\n",
    "\n",
    "sol_per_pop = 8                     # populatie grootte\n",
    "num_genes = len(input_values)       # == 6\n",
    "\n",
    "init_range_low = -2                 # initiele genen zijn een random waarde tussen -2 en 5\n",
    "init_range_high = 5\n",
    "\n",
    "gene_space = {\"low\": -2, \"high\": 5} # minimum en maximum waarde voor een gen, kan ook een discrete lijst zijn.  \n",
    "\n",
    "parent_selection_type = \"sss\"       # elitism -> Steady State Selection, beste parents gaan over naar de volgende generatie \n",
    "keep_parents = 1                    # aantal ouderparen dat overgaan naar volgende generatie \n",
    "\n",
    "crossover_type = \"single_point\"     # single_point = oudergenen op 1 plaats gespltst en samengevoegd\n",
    "crossover_probability = 0.5         # 50% kans dat genen splitsten worden, anders gen van 1 ouder. \n",
    "\n",
    "mutation_type = \"random\"       \n",
    "mutation_percent_genes = 25         # 25% kans op mutatie\n",
    "\n",
    "ga_instance = pygad.GA(num_generations=num_generations,\n",
    "                       num_parents_mating=num_parents_mating,\n",
    "                       fitness_func=fitness_function,\n",
    "                       sol_per_pop=sol_per_pop,\n",
    "                       num_genes=num_genes,\n",
    "                       init_range_low=init_range_low,\n",
    "                       init_range_high=init_range_high,\n",
    "                       gene_space= gene_space,\n",
    "                       parent_selection_type=parent_selection_type,\n",
    "                       keep_parents=keep_parents,\n",
    "                       crossover_type=crossover_type,\n",
    "                       crossover_probability=crossover_probability,\n",
    "                       mutation_type=mutation_type,\n",
    "                       mutation_percent_genes=mutation_percent_genes)\n",
    "\n",
    "ga_instance.run()\n",
    "solution, fitness, _ = ga_instance.best_solution()\n",
    "f\"De beste oplossing {solution} met een fitness van {fitness:0.4f}\""
   ]
  },
  {
   "cell_type": "code",
   "execution_count": 5,
   "metadata": {},
   "outputs": [
    {
     "data": {
      "text/plain": [
       "0.016456229195455307"
      ]
     },
     "execution_count": 5,
     "metadata": {},
     "output_type": "execute_result"
    }
   ],
   "source": [
    "1/fitness"
   ]
  },
  {
   "cell_type": "code",
   "execution_count": 6,
   "metadata": {},
   "outputs": [
    {
     "data": {
      "text/plain": [
       "43.983543770804545"
      ]
     },
     "execution_count": 6,
     "metadata": {},
     "output_type": "execute_result"
    }
   ],
   "source": [
    "sum( solution * input_values)"
   ]
  },
  {
   "cell_type": "code",
   "execution_count": 7,
   "metadata": {},
   "outputs": [
    {
     "data": {
      "text/plain": [
       "0.016456229195455307"
      ]
     },
     "execution_count": 7,
     "metadata": {},
     "output_type": "execute_result"
    }
   ],
   "source": [
    "abs( 44 - sum( solution * input_values))"
   ]
  },
  {
   "cell_type": "markdown",
   "metadata": {},
   "source": [
    "## Fitness berekenen met neurale netwerken\n",
    "\n",
    "De fitness berekenen kan realiteit erg complex zijn, daarom wordt meestal een neuraal netwerk gebruikt om dit te bepalen. \n",
    "\n",
    "Zo heet een menselijk genoom bestaat uit 3 miljard base paren."
   ]
  },
  {
   "cell_type": "code",
   "execution_count": 3,
   "metadata": {},
   "outputs": [],
   "source": [
    "data_inputs = torch.rand(4,2)\n",
    "\n",
    "data_outputs = torch.tensor([0, 1, 1, 0])\n",
    "\n",
    "num_inputs = data_inputs.shape[1]\n",
    "\n",
    "GANN_instance = pygad.gann.GANN(num_solutions=6,            # populatie\n",
    "                                num_neurons_input=num_inputs,\n",
    "                                num_neurons_hidden_layers=[2],\n",
    "                                num_neurons_output=2,\n",
    "                                hidden_activations=[\"relu\"],\n",
    "                                output_activation=\"softmax\")"
   ]
  },
  {
   "cell_type": "code",
   "execution_count": 51,
   "metadata": {},
   "outputs": [],
   "source": [
    "def fitness_func(ga_instance:pygad.GA, solution:torch.Tensor, sol_idx:int):\n",
    "    predictions = pygad.nn.predict(last_layer=GANN_instance.population_networks[sol_idx],\n",
    "                                   data_inputs=solution.reshape(data_inputs.shape) )\n",
    "    correct_predictions = np.where(predictions == data_outputs.numpy())[0].size\n",
    "    solution_fitness = (correct_predictions/data_outputs.size(0))*100\n",
    "\n",
    "    return solution_fitness"
   ]
  },
  {
   "cell_type": "code",
   "execution_count": 8,
   "metadata": {},
   "outputs": [
    {
     "name": "stdout",
     "output_type": "stream",
     "text": [
      "Populatie grootte=  6 \n",
      "Eerste individu =\n",
      " [[-0.03442531  0.00212062]\n",
      " [-0.09860268  0.02984727]\n",
      " [-0.00598982  0.01744189]\n",
      " [-0.00117039  0.0043304 ]]\n"
     ]
    }
   ],
   "source": [
    "initial_population = pygad.gann.population_as_vectors(population_networks=GANN_instance.population_networks)\n",
    "\n",
    "print(\"Populatie grootte= \", len(initial_population) ,\"\\nEerste individu =\\n\", initial_population[0].reshape(4,-1) )"
   ]
  },
  {
   "cell_type": "code",
   "execution_count": 52,
   "metadata": {},
   "outputs": [],
   "source": [
    "initial_population = pygad.gann.population_as_vectors(population_networks=GANN_instance.population_networks)\n",
    "\n",
    "num_parents_mating = 4\n",
    "\n",
    "num_generations = 500\n",
    "\n",
    "parent_selection_type = \"sss\"\n",
    "\n",
    "crossover_type = \"single_point\"\n",
    "\n",
    "mutation_type = \"random\"\n",
    "mutation_percent_genes = 25  \n",
    "\n",
    "keep_parents = 1\n",
    "\n",
    "init_range_low = -2\n",
    "init_range_high = 5\n",
    "\n",
    "ga_instance = pygad.GA(num_generations=num_generations,\n",
    "                       num_parents_mating=num_parents_mating,\n",
    "                       initial_population=initial_population,\n",
    "                       fitness_func=fitness_func,\n",
    "                       mutation_percent_genes=mutation_percent_genes,\n",
    "                       init_range_low=init_range_low,\n",
    "                       init_range_high=init_range_high,\n",
    "                       parent_selection_type=parent_selection_type,\n",
    "                       crossover_type=crossover_type,\n",
    "                       mutation_type=mutation_type,\n",
    "                       keep_parents=keep_parents)"
   ]
  },
  {
   "cell_type": "code",
   "execution_count": 61,
   "metadata": {},
   "outputs": [],
   "source": [
    "ga_instance.run()"
   ]
  },
  {
   "cell_type": "code",
   "execution_count": 62,
   "metadata": {},
   "outputs": [
    {
     "name": "stdout",
     "output_type": "stream",
     "text": [
      "De beste oplossing is\n",
      " [[-7.50253134  5.09748509]\n",
      " [ 4.41698462  5.83154582]\n",
      " [ 5.63148827  6.83744113]\n",
      " [-3.90733317  2.34899638]]\n",
      " met een fitness van 100%\n"
     ]
    }
   ],
   "source": [
    "solution, fitness, best_fit_idx = ga_instance.best_solution()\n",
    "print(f\"De beste oplossing is\\n {solution.reshape(4,-1)}\\n met een fitness van {fitness:0.0f}%\")"
   ]
  },
  {
   "cell_type": "code",
   "execution_count": 72,
   "metadata": {},
   "outputs": [
    {
     "data": {
      "text/plain": [
       "[0, 1, 1, 0]"
      ]
     },
     "execution_count": 72,
     "metadata": {},
     "output_type": "execute_result"
    }
   ],
   "source": [
    "pygad.nn.predict(last_layer=GANN_instance.population_networks[4],\n",
    "                   data_inputs= solution.reshape(4,-1) )"
   ]
  }
 ],
 "metadata": {
  "kernelspec": {
   "display_name": "ml",
   "language": "python",
   "name": "python3"
  },
  "language_info": {
   "codemirror_mode": {
    "name": "ipython",
    "version": 3
   },
   "file_extension": ".py",
   "mimetype": "text/x-python",
   "name": "python",
   "nbconvert_exporter": "python",
   "pygments_lexer": "ipython3",
   "version": "3.10.12"
  }
 },
 "nbformat": 4,
 "nbformat_minor": 2
}
